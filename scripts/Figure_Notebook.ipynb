{
 "cells": [
  {
   "cell_type": "markdown",
   "metadata": {},
   "source": [
    "# Figure Notebook"
   ]
  },
  {
   "cell_type": "code",
   "execution_count": 1,
   "metadata": {},
   "outputs": [],
   "source": [
    "\"\"\"\n",
    "Import needed libraries\n",
    "\"\"\"\n",
    "\n",
    "import numpy as np\n",
    "import pandas as pd\n",
    "from copy import copy\n",
    "import sys\n",
    "import my_shell_tools\n",
    "\n",
    "# analysis\n",
    "from scipy.stats import ttest_ind_from_stats\n",
    "import itertools\n",
    "\n",
    "# geomip_data\n",
    "import os.path\n",
    "# import cf\n",
    "from netCDF4 import Dataset\n",
    "\n",
    "# plotting\n",
    "import matplotlib.pyplot as plt\n",
    "import matplotlib.patches as mpatches\n",
    "import matplotlib.colors as colors\n",
    "import matplotlib.cm as cmx\n",
    "from matplotlib.colors import LogNorm\n",
    "\n",
    "%load_ext autoreload\n",
    "%autoreload 2"
   ]
  },
  {
   "cell_type": "code",
   "execution_count": 2,
   "metadata": {},
   "outputs": [],
   "source": [
    "\"\"\"\n",
    "Import all from projects python scripts\n",
    "\"\"\"\n",
    "\n",
    "from gfdl_data import *\n",
    "from get_glens_data import *\n",
    "from analysis import *\n",
    "from plotting import *"
   ]
  },
  {
   "cell_type": "code",
   "execution_count": 3,
   "metadata": {},
   "outputs": [
    {
     "data": {
      "text/plain": [
       "'\\nHow much of this needed?\\n'"
      ]
     },
     "execution_count": 3,
     "metadata": {},
     "output_type": "execute_result"
    }
   ],
   "source": [
    "\"\"\"\n",
    "How much of this needed?\n",
    "\"\"\"\n",
    "\n",
    "# Directory and filenames for annual timeseries of 2D data\n",
    "glens_dir = '/n/home03/pjirvine/keithfs1_pji/GLENS/combined_annual_data/'\n",
    "glens_template = '{exp}.{run}.cam.h0.{var}.ann.{years}.nc'\n",
    "\n",
    "vars_glens = ['TREFHT','TREFHTMX','P-E','PRECTMX','PRECT']\n",
    "exps_glens = ['control','feedback']\n",
    "years = ['2010-2029','2075-2094']\n",
    "\n",
    "# year ranges which appears in filename\n",
    "control_file_years = '201001-209912'\n",
    "control_short_file_years = '201001-203012'\n",
    "feedback_file_years = '202001-209912'\n",
    "\n",
    "seas = 'ann'\n",
    "stats = ['mean','std']\n",
    "\n",
    "\"\"\"\n",
    "Specify years of experiments and associated indices for annual files\n",
    "\"\"\"\n",
    "\n",
    "years_control = np.array([IDX + 2010 for IDX in range(90)])\n",
    "years_feedback = np.array([IDX + 2020 for IDX in range(80)])\n",
    "\n",
    "#Generate the indices for the range of years in each case.\n",
    "# [0] added as a 2 element tuple with an array and an empty slot returned rather than an array\n",
    "t_index_control = np.where((years_control > 2074) & (years_control < 2095))[0]\n",
    "t_index_baseline = np.where((years_control > 2009) & (years_control < 2030))[0]\n",
    "t_index_feedback = np.where((years_feedback > 2074) & (years_feedback < 2095))[0]\n",
    "\n",
    "# Years when GLENS anom = half eventual cooling found using offline calculation with this function call: closest_years_to_frac_GLENS(0.5)\n",
    "t_index_feedback_half = np.where((years_feedback > 2043) & (years_feedback < 2064))[0]\n",
    "t_index_control_half = np.where((years_control > 2043) & (years_control < 2064))[0]\n",
    "\n",
    "\"\"\"\n",
    "How much of this needed?\n",
    "\"\"\""
   ]
  },
  {
   "cell_type": "code",
   "execution_count": 4,
   "metadata": {},
   "outputs": [
    {
     "data": {
      "text/plain": [
       "\"\\nMASKS:\\n'land_frac' - Land fraction\\n'land_mask' - binary land mask where land fraction > 50%\\n'land_noice_frac' land fraction without Greenland or Antarctica\\n'land_noice_mask' - binary land mask without Greenland or Antarctica and where land fraction > 50%\\n    \\nWEIGHTS:\\n'pop' - gridcell weighting by population fraction\\n'ag' - gridcell weighting by agricultural land fraction\\n'area' - simple gridcell weighting by area\\n'land_area' - land area weighting using raw land area fraction (not mask)\\n'land_noice_area' - land area without Greenland and Antarctica weighting using raw land area fraction (not mask)\\n\""
      ]
     },
     "execution_count": 4,
     "metadata": {},
     "output_type": "execute_result"
    }
   ],
   "source": [
    "\"\"\"\n",
    "Generate means and stds for all variables and cases\n",
    "\"\"\"\n",
    "\n",
    "# get lons, lats and weights\n",
    "lons, lats, weights = get_lons_lats_weights()\n",
    "\n",
    "# returnes (Means, Stds) for all cases and vars\n",
    "all_data = get_all_cases_vars() # {(var,case)}\n",
    "\"\"\"\n",
    "CASES:\n",
    "'Baseline'     - RCP8.5 @ 2010-2029\n",
    "'RCP8.5'       - RCP8.5 @ 2075-2094\n",
    "'Full-GLENS'   - GLENS  @ 2075-2094\n",
    "'Half-GLENS'   - Scaled Half-GLENS  @ 2075-2094\n",
    "'Baseline-2'   - RCP8.5 @ 2010-2029 W/ alternate runs\n",
    "'Full-GLENS-2'   - GLENS @ 2075-2094 W/ alternate runs\n",
    "'Half-GLENS-2'   - Scaled Half-GLENS @ 2075-2094 W/ alternate runs on GLENS (not on RCP8.5)\n",
    "### NOT DONE ### 'Half-GLENS-time' - Shifted Half-GLENS @ 2075-2094 AND ?????\n",
    "\"\"\"\n",
    "\n",
    "# get weights and masks\n",
    "all_masks = get_glens_masks_weights() # all_masks[masks]\n",
    "\"\"\"\n",
    "MASKS:\n",
    "'land_frac' - Land fraction\n",
    "'land_mask' - binary land mask where land fraction > 50%\n",
    "'land_noice_frac' land fraction without Greenland or Antarctica\n",
    "'land_noice_mask' - binary land mask without Greenland or Antarctica and where land fraction > 50%\n",
    "    \n",
    "WEIGHTS:\n",
    "'pop' - gridcell weighting by population fraction\n",
    "'ag' - gridcell weighting by agricultural land fraction\n",
    "'area' - simple gridcell weighting by area\n",
    "'land_area' - land area weighting using raw land area fraction (not mask)\n",
    "'land_noice_area' - land area without Greenland and Antarctica weighting using raw land area fraction (not mask)\n",
    "\"\"\"\n"
   ]
  },
  {
   "cell_type": "code",
   "execution_count": 5,
   "metadata": {},
   "outputs": [],
   "source": [
    "\"\"\"\n",
    "Set standard plot options\n",
    "\"\"\"\n",
    "\n",
    "def cm2inch(*tupl):\n",
    "    inch = 2.54\n",
    "    if isinstance(tupl[0], tuple):\n",
    "        return tuple(i/inch for i in tupl[0])\n",
    "    else:\n",
    "        return tuple(i/inch for i in tupl)\n",
    "\n",
    "plt.rcParams.update({'font.size': 8})\n",
    "plt.rcParams.update({'figure.figsize': cm2inch(8.5,8.5)})\n",
    "\n",
    "# color guide here: https://www.w3schools.com/colors/colors_picker.asp\n",
    "# color blender here: https://meyerweb.com/eric/tools/color-blend\n",
    "red = '#ff0000'\n",
    "l_red = '#ffc0c0' # old: '#ffd9d9'\n",
    "blue = '#0066ff'\n",
    "l_blue = '#c0c0ff' # old:'#b2d0ff'\n",
    "purple = '#803380'\n",
    "l_purple = '#C099C0' \n",
    "\n",
    "std_alpha = 0.2"
   ]
  },
  {
   "cell_type": "code",
   "execution_count": 6,
   "metadata": {},
   "outputs": [],
   "source": [
    "import matplotlib as mpl\n",
    "mpl.rcParams['figure.dpi']= 300 # set inline images to hi-res\n",
    "%matplotlib inline"
   ]
  },
  {
   "cell_type": "markdown",
   "metadata": {},
   "source": [
    "# Temp section"
   ]
  },
  {
   "cell_type": "code",
   "execution_count": 14,
   "metadata": {},
   "outputs": [
    {
     "name": "stdout",
     "output_type": "stream",
     "text": [
      "daily: 3.4900302716244805e-08 monthly: 3.489977311642505e-08\n",
      "monthly qflx 3.490429975936144e-05 monthly lhflx 87.31796498927017\n"
     ]
    }
   ],
   "source": [
    "# Function to calculate global mean of given file / variable\n",
    "def global_mean_data(filename, variable, weight):\n",
    "    data = Dataset(filename)\n",
    "    time_mean = np.mean(data.variables[variable][:],axis=0)\n",
    "    global_mean = np.sum(time_mean * weight)\n",
    "    return global_mean\n",
    "\n",
    "raw_daily_data_dir = \"/n/home03/pjirvine/keithfs1_pji/GLENS/raw_daily_data/\"\n",
    "raw_monthly_data_dir = \"/n/home03/pjirvine/keithfs1_pji/GLENS/raw_monthly_data/\"\n",
    "\n",
    "daily_nc_format = \"{exp}.001.cam.h3.{var}.20100101-20191230.nc\"\n",
    "monthly_nc_format = \"{exp}.001.cam.h0.{var}.201001-201912.nc\"\n",
    "\n",
    "daily_vars = ['PRECT','LHFLX']\n",
    "monthly_vars = ['PRECC','PRECL','LHFLX','QFLX']\n",
    "exps = ['control','feedback']\n",
    "\n",
    "####\n",
    "\n",
    "exp = 'control'\n",
    "weight = np.transpose(all_masks['area'])\n",
    "daily_prect = global_mean_data(raw_daily_data_dir + daily_nc_format.format(exp=exp, var='PRECT'), 'PRECT', weight)\n",
    "\n",
    "monthly_precl = global_mean_data(raw_monthly_data_dir + monthly_nc_format.format(exp=exp, var='PRECL'), 'PRECL', weight)\n",
    "monthly_precc = global_mean_data(raw_monthly_data_dir + monthly_nc_format.format(exp=exp, var='PRECC'), 'PRECC', weight)\n",
    "\n",
    "monthly_LHFLX = global_mean_data(raw_monthly_data_dir + monthly_nc_format.format(exp=exp, var='LHFLX'), 'LHFLX', weight)\n",
    "monthly_QFLX = global_mean_data(raw_monthly_data_dir + monthly_nc_format.format(exp=exp, var='QFLX'), 'QFLX', weight)\n",
    "\n",
    "print('daily:', daily_prect, 'monthly:',monthly_precl + monthly_precc)\n",
    "print('monthly qflx', monthly_QFLX, 'monthly lhflx', monthly_LHFLX)\n",
    "#####\n",
    "\n",
    "# control_daily_PRECT_nc = \"control.001.cam.h3.PRECT.20100101-20191230.nc\"\n",
    "# feedback_daily_PRECT_nc = \"feedback.001.cam.h3.PRECT.20200101-20291231.nc\"\n",
    "\n",
    "# control_daily_LHFLX_nc = \"control.001.cam.h3.LHFLX.20100101-20191230.nc\"\n",
    "# feedback_daily_LHFLX_nc = \"feedback.001.cam.h3.LHFLX.20200101-20291231.nc\"\n",
    "\n",
    "# feedback_monthly_PRECC_nc = \"feedback.001.cam.h0.PRECC.202001-202912.nc\""
   ]
  },
  {
   "cell_type": "code",
   "execution_count": 9,
   "metadata": {},
   "outputs": [
    {
     "name": "stdout",
     "output_type": "stream",
     "text": [
      "LH in WM-2: 87.31796498927017\n",
      "L = 2.5 MJ kg-1 (latent heat of evaporation of water)\n",
      "PRECT in Ms-1: 3.4900302716244805e-08\n",
      "PRECT in Kgs-1: 3.4900302716244806e-05\n",
      "LH in WM-2 / PRECT in Kgs-1 = L: 2501925.7196478946\n",
      "L = 2.5 MJ kg-1 (latent heat of evaporation of water)\n"
     ]
    }
   ],
   "source": [
    "print(\"LH in WM-2:\",monthly_LHFLX)\n",
    "print(\"L = 2.5 MJ kg-1 (latent heat of evaporation of water)\")\n",
    "print(\"PRECT in Ms-1:\",daily_prect)\n",
    "print(\"PRECT in Kgs-1:\",daily_prect*1000.)\n",
    "print(\"LH in WM-2 / PRECT in Kgs-1 = L:\",monthly_LHFLX / (daily_prect*1000.))\n",
    "print(\"L = 2.5 MJ kg-1 (latent heat of evaporation of water)\")"
   ]
  },
  {
   "cell_type": "code",
   "execution_count": 10,
   "metadata": {},
   "outputs": [
    {
     "data": {
      "text/plain": [
       "<class 'netCDF4._netCDF4.Variable'>\n",
       "float32 LHFLX(time, lat, lon)\n",
       "    units: W/m2\n",
       "    long_name: Surface latent heat flux\n",
       "    cell_methods: time: mean\n",
       "unlimited dimensions: time\n",
       "current shape = (120, 192, 288)\n",
       "filling on, default _FillValue of 9.969209968386869e+36 used"
      ]
     },
     "execution_count": 10,
     "metadata": {},
     "output_type": "execute_result"
    }
   ],
   "source": [
    "Dataset(raw_monthly_data_dir + monthly_nc_format.format(exp='control', var='LHFLX')).variables['LHFLX']"
   ]
  },
  {
   "cell_type": "markdown",
   "metadata": {},
   "source": [
    "# INSERT FIGURE SECTIONS HERE"
   ]
  },
  {
   "cell_type": "code",
   "execution_count": 11,
   "metadata": {},
   "outputs": [],
   "source": [
    "def median_y_hist2d(hist2d_out, thresh_factor=50):\n",
    "\n",
    "    \"\"\"\n",
    "    returns y values for median with None where less than threshold factor times the minimum weight.\n",
    "    (and corresponding x values)\n",
    "    \"\"\"\n",
    "    \n",
    "    # unpack hist2d_out\n",
    "    h, x, y, image = hist2d_out\n",
    "\n",
    "    # define centres from edges\n",
    "    def centres(x):\n",
    "        x_1 = np.roll(x,-1)\n",
    "        return ((x + x_1) / 2)[0:-1]\n",
    "\n",
    "    x_mid = centres(x)\n",
    "    y_mid = centres(y)\n",
    "\n",
    "    # this function calculates the median\n",
    "    def med_y(y_mid,x_index,weight):\n",
    "\n",
    "        # Define threshold for calculating median and interquartiles\n",
    "        min_weight = np.nanmin(h)\n",
    "        med_thresh = min_weight * thresh_factor\n",
    "    #     iq_thresh = min_weight * 20\n",
    "\n",
    "        # Convert nan to zero weight\n",
    "        weight = np.nan_to_num(weight)\n",
    "\n",
    "        if np.sum(weight[x_index,:]) > med_thresh:\n",
    "            return weighted_quantile(y_mid, 0.5, sample_weight=weight[x_index,:])\n",
    "        else:\n",
    "            return None\n",
    "\n",
    "    median_y = [med_y(y_mid,IDX,h) for IDX in range(len(x_mid))]\n",
    "    \n",
    "    return x_mid, median_y\n",
    "\n",
    "def quant_y_hist2d(hist2d_out, quant=0.5, thresh_factor=50):\n",
    "\n",
    "    \"\"\"\n",
    "    returns y values for median with None where less than threshold factor times the minimum weight.\n",
    "    (and corresponding x values)\n",
    "    \"\"\"\n",
    "    \n",
    "    # unpack hist2d_out\n",
    "    h, x, y, image = hist2d_out\n",
    "\n",
    "    # define centres from edges\n",
    "    def centres(x):\n",
    "        x_1 = np.roll(x,-1)\n",
    "        return ((x + x_1) / 2)[0:-1]\n",
    "\n",
    "    x_mid = centres(x)\n",
    "    y_mid = centres(y)\n",
    "\n",
    "    # this function calculates the median\n",
    "    def quant_y(y_mid,x_index,quant,weight):\n",
    "\n",
    "        # Define threshold for calculating median and interquartiles\n",
    "        min_weight = np.nanmin(h)\n",
    "        med_thresh = min_weight * thresh_factor\n",
    "    #     iq_thresh = min_weight * 20\n",
    "\n",
    "        # Convert nan to zero weight\n",
    "        weight = np.nan_to_num(weight)\n",
    "\n",
    "        if np.sum(weight[x_index,:]) > med_thresh:\n",
    "            return weighted_quantile(y_mid, quant, sample_weight=weight[x_index,:])\n",
    "        else:\n",
    "            return None\n",
    "\n",
    "    quant_y = [quant_y(y_mid,IDX,quant,h) for IDX in range(len(x_mid))]\n",
    "    \n",
    "    return x_mid, quant_y\n"
   ]
  },
  {
   "cell_type": "code",
   "execution_count": 27,
   "metadata": {},
   "outputs": [
    {
     "data": {
      "image/png": "[encoded data removed]",
      "text/plain": [
       "<Figure size 283.465x453.543 with 5 Axes>"
      ]
     },
     "metadata": {
      "needs_background": "light"
     },
     "output_type": "display_data"
    }
   ],
   "source": [
    "\"\"\"\n",
    "Set up plot options\n",
    "\"\"\"\n",
    "from matplotlib.gridspec import GridSpec\n",
    "\n",
    "out_dir=''\n",
    "\n",
    "out_name = 'P-E_anoms_vs_control_P-E_>10C_100%land'\n",
    "\n",
    "title = 'All 100% land points >10C'\n",
    "\n",
    "# apply SAT > 10 C mask\n",
    "sat = True\n",
    "\n",
    "var = 'P-E'\n",
    "\n",
    "land_mask_100 = all_masks['land_frac'].flatten() == 100.\n",
    "weight = (land_mask_100 * all_masks['land_area'].flatten()) / np.sum((land_mask_100 * all_masks['land_area'].flatten()))\n",
    "\n",
    "thresh_factor=10.\n",
    "\n",
    "plot_x = all_data[var,'Baseline'][0].flatten()\n",
    "\n",
    "# # CO2 - control\n",
    "# plot_y1 = ((all_data[var,'RCP8.5'][0] - all_data[var,'Baseline'][0]) / all_data[var,'Baseline'][1]).flatten()\n",
    "# # SRM - control\n",
    "# plot_y2 = ((all_data[var,'Full-GLENS'][0] - all_data[var,'Baseline'][0]) / all_data[var,'Baseline'][1]).flatten()\n",
    "# # SRM - 4xCO2\n",
    "# plot_y3 = ((all_data[var,'Full-GLENS'][0] - all_data[var,'RCP8.5'][0]) / all_data[var,'Baseline'][1]).flatten()\n",
    "\n",
    "# CO2 - control\n",
    "plot_y1 = all_data[var,'RCP8.5'][0].flatten()\n",
    "# SRM - control\n",
    "plot_y2 = all_data[var,'Full-GLENS'][0].flatten()\n",
    "# SRM - 4xCO2\n",
    "plot_y3 = all_data[var,'Full-GLENS'][0].flatten()\n",
    "\n",
    "# apply SAT > 10C mask\n",
    "if sat:\n",
    "    sat_ctrl = all_data['TREFHT','Baseline'][0].flatten()\n",
    "    sat_mask = sat_ctrl > 10.\n",
    "    \n",
    "    sat_weight = sat_mask * weight\n",
    "    weight = sat_weight / np.sum(sat_weight)\n",
    "    \n",
    "# Dont need lowest..\n",
    "bounds = [1.e-4,3.e-4,1.e-3,3.e-3,1.e-2,3.e-2,1.e-1]\n",
    "labels = ['$10^{-4}$','3*$10^{-4}$','$10^{-3}$','3*$10^{-3}$','$10^{-2}$','3*$10^{-2}$','$10^{-1}$']\n",
    "\n",
    "xlims = [-1,5]\n",
    "ylims = [-1,5]\n",
    "\n",
    "nbins = 200\n",
    "\n",
    "cmap = plt.cm.viridis\n",
    "norm = mpl.colors.BoundaryNorm(bounds, cmap.N)\n",
    "\n",
    "\"\"\"\n",
    "Set up figure\n",
    "\"\"\"\n",
    "\n",
    "f = plt.figure(figsize=cm2inch(10,16))\n",
    "plt.rcParams.update({'font.size': 7})\n",
    "\n",
    "gs = GridSpec(3, 2, width_ratios=[12,1], height_ratios=[1,1,1])\n",
    "ax1 = plt.subplot(gs[0,0])\n",
    "ax2 = plt.subplot(gs[1,0])\n",
    "ax3 = plt.subplot(gs[2,0])\n",
    "cax = plt.subplot(gs[0,1])\n",
    "ax4 = plt.subplot(gs[1,1])\n",
    "\n",
    "\"\"\"\n",
    "Make 2d hist plots\n",
    "\"\"\"\n",
    "\n",
    "# Plot CO2 - control anomaly\n",
    "img1 = ax1.hist2d(plot_x, plot_y1, bins=nbins, range = [xlims,ylims], weights=weight, norm=norm, cmap=cmap, cmin=bounds[0], cmax=bounds[-1])\n",
    "\n",
    "# Plot median Y value where >50x minimum weight\n",
    "x,y = median_y_hist2d(img1, thresh_factor=thresh_factor)\n",
    "ax1.plot(x,y,color='r',lw=0.5)\n",
    "\n",
    "ax1.set_title(title)\n",
    "ax1.set_ylabel('4xCO2 - Control P-E (mm/day)')\n",
    "ax1.axhline(0.,color='k',lw=0.5)\n",
    "ax1.axvline(0.,color='k',lw=0.5)\n",
    "\n",
    "plt.axis('scaled')\n",
    "\n",
    "# plot SRM - control anomaly\n",
    "img2 = ax2.hist2d(plot_x, plot_y2, bins=nbins, range = [xlims,ylims], weights=weight, norm=norm, cmap=cmap, cmin=bounds[0], cmax=bounds[-1])\n",
    "\n",
    "# Plot median Y value where >50x minimum weight\n",
    "x,y = median_y_hist2d(img2, thresh_factor=thresh_factor)\n",
    "ax2.plot(x,y,color='r',lw=0.5)\n",
    "\n",
    "ax2.set_ylabel('Full-SG - Control P-E (mm/day)')\n",
    "ax2.axhline(0.,color='k',lw=0.5)\n",
    "ax2.axvline(0.,color='k',lw=0.5)\n",
    "\n",
    "plt.axis('scaled')\n",
    "\n",
    "# plot SRM - control anomaly\n",
    "img3 = ax3.hist2d(plot_x, plot_y3, bins=nbins, range = [xlims,ylims], weights=weight, norm=norm, cmap=cmap, cmin=bounds[0], cmax=bounds[-1])\n",
    "\n",
    "# Plot median Y value where >50x minimum weight\n",
    "x,y = median_y_hist2d(img3, thresh_factor=thresh_factor)\n",
    "ax3.plot(x,y,color='r',lw=0.5)\n",
    "\n",
    "ax3.set_xlabel('Control P-E (mm/day)')\n",
    "ax3.set_ylabel('Full-SG - 4xCO2 P-E (mm/day)')\n",
    "ax3.axhline(0.,color='k',lw=0.5)\n",
    "ax3.axvline(0.,color='k',lw=0.5)\n",
    "\n",
    "plt.axis('scaled')\n",
    "\n",
    "\"\"\"\n",
    "Colorbar and finishing up\n",
    "\"\"\"\n",
    "\n",
    "cbar = f.colorbar(img1[3], cax=cax, ticks=bounds, format='%0.0e')\n",
    "cbar.set_ticklabels(labels)\n",
    "cbar.set_label('Land Area Fraction')\n",
    "\n",
    "ax4.axis('off') # needed due to cbar plotting issue\n",
    "\n",
    "plt.savefig(out_dir+out_name+'.png', format='png', dpi=480)\n",
    "plt.savefig(out_dir+out_name+'.eps', format='eps', dpi=480)\n",
    "\n",
    "plt.show()"
   ]
  },
  {
   "cell_type": "code",
   "execution_count": 96,
   "metadata": {},
   "outputs": [
    {
     "data": {
      "text/plain": [
       "3.266488022334734"
      ]
     },
     "execution_count": 96,
     "metadata": {},
     "output_type": "execute_result"
    }
   ],
   "source": [
    "np.sum(all_data['P-E','RCP8.5'][0] * all_masks['area'])\n",
    "np.sum(all_data['PRECT','RCP8.5'][0] * all_masks['area'])"
   ]
  },
  {
   "cell_type": "code",
   "execution_count": 94,
   "metadata": {},
   "outputs": [
    {
     "data": {
      "text/plain": [
       "-0.3240704243749209"
      ]
     },
     "execution_count": 94,
     "metadata": {},
     "output_type": "execute_result"
    }
   ],
   "source": [
    "np.sum(all_data['P-E','Baseline'][0] * all_masks['area'])"
   ]
  },
  {
   "cell_type": "code",
   "execution_count": 39,
   "metadata": {},
   "outputs": [
    {
     "data": {
      "text/plain": [
       "<matplotlib.image.AxesImage at 0x2acdb733fac8>"
      ]
     },
     "execution_count": 39,
     "metadata": {},
     "output_type": "execute_result"
    },
    {
     "data": {
      "image/png": "[encoded data removed]",
      "text/plain": [
       "<Figure size 432x288 with 1 Axes>"
      ]
     },
     "metadata": {
      "needs_background": "light"
     },
     "output_type": "display_data"
    }
   ],
   "source": [
    "plt.imshow((all_data['TREFHT','Baseline'][0] > 10.) * np.transpose(all_masks['land_frac']) == 100.)"
   ]
  },
  {
   "cell_type": "code",
   "execution_count": 18,
   "metadata": {},
   "outputs": [
    {
     "data": {
      "text/plain": [
       "<matplotlib.image.AxesImage at 0x2b9898f045f8>"
      ]
     },
     "execution_count": 18,
     "metadata": {},
     "output_type": "execute_result"
    },
    {
     "data": {
      "image/png": "[encoded data removed]",
      "text/plain": [
       "<Figure size 432x288 with 1 Axes>"
      ]
     },
     "metadata": {
      "needs_background": "light"
     },
     "output_type": "display_data"
    }
   ],
   "source": [
    "plt.imshow((all_data[var,'Baseline'][0] < 0) * all_masks['land_frac'] == 100.)"
   ]
  },
  {
   "cell_type": "code",
   "execution_count": 13,
   "metadata": {},
   "outputs": [
    {
     "data": {
      "text/plain": [
       "(array([0.00000000e+00, 0.00000000e+00, 0.00000000e+00, 0.00000000e+00,\n",
       "        0.00000000e+00, 0.00000000e+00, 0.00000000e+00, 0.00000000e+00,\n",
       "        0.00000000e+00, 0.00000000e+00, 0.00000000e+00, 0.00000000e+00,\n",
       "        0.00000000e+00, 0.00000000e+00, 0.00000000e+00, 0.00000000e+00,\n",
       "        0.00000000e+00, 0.00000000e+00, 0.00000000e+00, 0.00000000e+00,\n",
       "        0.00000000e+00, 0.00000000e+00, 0.00000000e+00, 0.00000000e+00,\n",
       "        0.00000000e+00, 0.00000000e+00, 0.00000000e+00, 0.00000000e+00,\n",
       "        0.00000000e+00, 0.00000000e+00, 0.00000000e+00, 0.00000000e+00,\n",
       "        0.00000000e+00, 0.00000000e+00, 0.00000000e+00, 0.00000000e+00,\n",
       "        0.00000000e+00, 0.00000000e+00, 0.00000000e+00, 0.00000000e+00,\n",
       "        0.00000000e+00, 0.00000000e+00, 0.00000000e+00, 0.00000000e+00,\n",
       "        0.00000000e+00, 0.00000000e+00, 0.00000000e+00, 0.00000000e+00,\n",
       "        0.00000000e+00, 0.00000000e+00, 0.00000000e+00, 0.00000000e+00,\n",
       "        0.00000000e+00, 0.00000000e+00, 0.00000000e+00, 0.00000000e+00,\n",
       "        0.00000000e+00, 0.00000000e+00, 0.00000000e+00, 0.00000000e+00,\n",
       "        0.00000000e+00, 0.00000000e+00, 0.00000000e+00, 0.00000000e+00,\n",
       "        0.00000000e+00, 0.00000000e+00, 0.00000000e+00, 0.00000000e+00,\n",
       "        1.84203565e-04, 0.00000000e+00, 0.00000000e+00, 0.00000000e+00,\n",
       "        0.00000000e+00, 0.00000000e+00, 0.00000000e+00, 0.00000000e+00,\n",
       "        0.00000000e+00, 0.00000000e+00, 0.00000000e+00, 0.00000000e+00,\n",
       "        0.00000000e+00, 0.00000000e+00, 0.00000000e+00, 1.84915398e-04,\n",
       "        0.00000000e+00, 1.89256625e-04, 1.32374549e-04, 0.00000000e+00,\n",
       "        3.15040709e-04, 3.30061787e-04, 1.74382190e-04, 3.27278641e-04,\n",
       "        2.84758043e-04, 4.43692512e-04, 1.05563842e-03, 2.76116467e-03,\n",
       "        4.27020444e-03, 1.64297962e-02, 8.86293830e-02, 3.34423140e-01,\n",
       "        5.13572022e-02, 3.98864478e-02, 3.45256197e-02, 2.83551110e-02,\n",
       "        2.43267596e-02, 2.64309780e-02, 2.48906960e-02, 1.94861727e-02,\n",
       "        2.06565278e-02, 1.65669568e-02, 1.68942036e-02, 1.69815158e-02,\n",
       "        1.84692986e-02, 1.89645563e-02, 1.53550201e-02, 1.54743196e-02,\n",
       "        1.55142686e-02, 1.37948733e-02, 1.01919328e-02, 8.74187430e-03,\n",
       "        1.23165643e-02, 8.75619965e-03, 6.69336851e-03, 7.74917866e-03,\n",
       "        4.41688380e-03, 4.02471030e-03, 4.62745083e-03, 3.48932107e-03,\n",
       "        3.96924243e-03, 3.28556687e-03, 2.57330197e-03, 2.39079305e-03,\n",
       "        1.98017315e-03, 2.23286376e-03, 1.70228570e-03, 2.77307502e-03,\n",
       "        1.64691009e-03, 1.69967264e-03, 1.29057646e-03, 1.67646620e-03,\n",
       "        1.31891100e-03, 7.56873099e-04, 1.47281442e-03, 1.84687945e-03,\n",
       "        5.66286740e-04, 1.10556548e-03, 3.77539621e-04, 1.32131946e-03,\n",
       "        7.17315643e-04, 7.36579563e-04, 1.47092413e-03, 1.24729843e-03,\n",
       "        7.53291487e-04, 1.69451927e-03, 5.59761607e-04, 1.31079417e-03,\n",
       "        3.78001088e-04, 5.51567051e-04, 7.42123428e-04, 7.56821829e-04,\n",
       "        1.89513047e-04, 5.61801659e-04, 7.45724939e-04, 1.84915398e-04,\n",
       "        0.00000000e+00, 0.00000000e+00, 1.88488041e-04, 0.00000000e+00,\n",
       "        1.86188777e-04, 1.67684589e-04, 3.52170287e-04, 0.00000000e+00,\n",
       "        0.00000000e+00, 3.77744666e-04, 1.88795426e-04, 5.45736973e-04,\n",
       "        0.00000000e+00, 3.58373323e-04, 1.87720548e-04, 1.88129843e-04,\n",
       "        1.88795426e-04, 0.00000000e+00, 1.88795426e-04, 1.85577007e-04,\n",
       "        3.77283467e-04, 1.80860123e-04, 1.88488041e-04, 3.76772127e-04,\n",
       "        0.00000000e+00, 1.81769667e-04, 1.84203565e-04, 3.77181423e-04,\n",
       "        3.58629745e-04, 1.89513047e-04, 1.89256625e-04, 1.88795426e-04,\n",
       "        0.00000000e+00, 1.88488041e-04, 1.88488041e-04, 1.84915398e-04,\n",
       "        1.69116698e-04, 3.77744666e-04, 0.00000000e+00, 0.00000000e+00,\n",
       "        3.78103160e-04, 1.89051580e-04, 1.88129843e-04, 3.78308204e-04,\n",
       "        0.00000000e+00]),\n",
       " array([-10. ,  -9.9,  -9.8,  -9.7,  -9.6,  -9.5,  -9.4,  -9.3,  -9.2,\n",
       "         -9.1,  -9. ,  -8.9,  -8.8,  -8.7,  -8.6,  -8.5,  -8.4,  -8.3,\n",
       "         -8.2,  -8.1,  -8. ,  -7.9,  -7.8,  -7.7,  -7.6,  -7.5,  -7.4,\n",
       "         -7.3,  -7.2,  -7.1,  -7. ,  -6.9,  -6.8,  -6.7,  -6.6,  -6.5,\n",
       "         -6.4,  -6.3,  -6.2,  -6.1,  -6. ,  -5.9,  -5.8,  -5.7,  -5.6,\n",
       "         -5.5,  -5.4,  -5.3,  -5.2,  -5.1,  -5. ,  -4.9,  -4.8,  -4.7,\n",
       "         -4.6,  -4.5,  -4.4,  -4.3,  -4.2,  -4.1,  -4. ,  -3.9,  -3.8,\n",
       "         -3.7,  -3.6,  -3.5,  -3.4,  -3.3,  -3.2,  -3.1,  -3. ,  -2.9,\n",
       "         -2.8,  -2.7,  -2.6,  -2.5,  -2.4,  -2.3,  -2.2,  -2.1,  -2. ,\n",
       "         -1.9,  -1.8,  -1.7,  -1.6,  -1.5,  -1.4,  -1.3,  -1.2,  -1.1,\n",
       "         -1. ,  -0.9,  -0.8,  -0.7,  -0.6,  -0.5,  -0.4,  -0.3,  -0.2,\n",
       "         -0.1,   0. ,   0.1,   0.2,   0.3,   0.4,   0.5,   0.6,   0.7,\n",
       "          0.8,   0.9,   1. ,   1.1,   1.2,   1.3,   1.4,   1.5,   1.6,\n",
       "          1.7,   1.8,   1.9,   2. ,   2.1,   2.2,   2.3,   2.4,   2.5,\n",
       "          2.6,   2.7,   2.8,   2.9,   3. ,   3.1,   3.2,   3.3,   3.4,\n",
       "          3.5,   3.6,   3.7,   3.8,   3.9,   4. ,   4.1,   4.2,   4.3,\n",
       "          4.4,   4.5,   4.6,   4.7,   4.8,   4.9,   5. ,   5.1,   5.2,\n",
       "          5.3,   5.4,   5.5,   5.6,   5.7,   5.8,   5.9,   6. ,   6.1,\n",
       "          6.2,   6.3,   6.4,   6.5,   6.6,   6.7,   6.8,   6.9,   7. ,\n",
       "          7.1,   7.2,   7.3,   7.4,   7.5,   7.6,   7.7,   7.8,   7.9,\n",
       "          8. ,   8.1,   8.2,   8.3,   8.4,   8.5,   8.6,   8.7,   8.8,\n",
       "          8.9,   9. ,   9.1,   9.2,   9.3,   9.4,   9.5,   9.6,   9.7,\n",
       "          9.8,   9.9,  10. ,  10.1,  10.2,  10.3,  10.4,  10.5,  10.6,\n",
       "         10.7,  10.8,  10.9]),\n",
       " <a list of 209 Patch objects>)"
      ]
     },
     "execution_count": 13,
     "metadata": {},
     "output_type": "execute_result"
    },
    {
     "data": {
      "image/png": "[encoded data removed]",
      "text/plain": [
       "<Figure size 432x288 with 1 Axes>"
      ]
     },
     "metadata": {
      "needs_background": "light"
     },
     "output_type": "display_data"
    }
   ],
   "source": [
    "plt.hist(plot_x, bins=[x*0.1-10 for x in range(210)], weights=weight)"
   ]
  },
  {
   "cell_type": "markdown",
   "metadata": {},
   "source": [
    "# Loading Example NetCDF to see contents and map results"
   ]
  },
  {
   "cell_type": "code",
   "execution_count": null,
   "metadata": {},
   "outputs": [],
   "source": [
    "\"\"\"\n",
    "Example netcdf file of annual series + gather lons and lats\n",
    "\"\"\"\n",
    "\n",
    "\"\"\"\n",
    "variables(dimensions): float64 time(time), float64 time_bnds(time,bnds), \n",
    "    float64 lat(lat), float64 lon(lon), float64 gw(lat), float64 ch4vmr(time), \n",
    "    float64 co2vmr(time), int32 ndcur(time), int32 date(time), int32 nscur(time), \n",
    "    float64 sol_tsi(time), int32 nsteph(time), float64 f11vmr(time), float64 n2ovmr(time), \n",
    "    int32 datesec(time), float64 f12vmr(time), float32 TREFHT(time,lat,lon)\n",
    "\"\"\"\n",
    "\n",
    "var='TREFHT'\n",
    "exp='control'\n",
    "run='001'\n",
    "file_years='201001-209912'\n",
    "\n",
    "glens_dir = '/n/home03/pjirvine/keithfs1_pji/GLENS/combined_annual_data/'\n",
    "glens_filename = '{exp}.{run}.cam.h0.{var}.ann.{years}.nc'.format(exp=exp,run=run,var=var,years=file_years)\n",
    "\n",
    "glens_fileloc = glens_dir + glens_filename\n",
    "test_nc = Dataset(glens_fileloc)\n",
    "\n",
    "lons = np.array(test_nc.variables['lon'][:])\n",
    "lats = np.array(test_nc.variables['lat'][:])\n",
    "\n",
    "# grid-weights by latitude\n",
    "gw = test_nc.variables['gw'][:]\n",
    "gw_2D = np.tile(gw, (lons.size,1))\n",
    "gw_2D = gw_2D / np.sum(gw_2D)"
   ]
  },
  {
   "cell_type": "code",
   "execution_count": null,
   "metadata": {},
   "outputs": [],
   "source": [
    "# #Get example netcdf\n",
    "# glens_dir = '/n/home03/pjirvine/keithfs1_pji/GLENS/combined_annual_data/'\n",
    "# glens_filename = 'control.001.cam.h0.TREFHT.ann.201001-209912.nc'\n",
    "# glens_fileloc = glens_dir + glens_filename\n",
    "# test_nc = Dataset(glens_fileloc)\n",
    "\n",
    "fix_dir = '/n/home03/pjirvine/keithfs1_pji/geomip_archive/final_data/CCSM4/fix/'\n",
    "filename = 'sftlf_CCSM4.nc'\n",
    "test_nc = Dataset(fix_dir + filename)\n",
    "\n",
    "nc_data = test_nc.variables['sftlf'][:].transpose()"
   ]
  },
  {
   "cell_type": "code",
   "execution_count": null,
   "metadata": {},
   "outputs": [],
   "source": [
    "nc_data.shape"
   ]
  },
  {
   "cell_type": "code",
   "execution_count": null,
   "metadata": {},
   "outputs": [],
   "source": [
    "    \"\"\"\n",
    "    MASKS:\n",
    "    'land_mask' - binary land mask where land fraction > 50%\n",
    "    'land_noice_mask' - binary land mask without Greenland or Antarctica and where land fraction > 50%\n",
    "    WEIGHTS:\n",
    "    'pop' - gridcell weighting by population fraction\n",
    "    'ag' - gridcell weighting by agricultural land fraction\n",
    "    'area' - simple gridcell weighting by area\n",
    "    'land_area' - land area weighting using raw land area fraction (not mask)\n",
    "    'land_noice_area' - land area without Greenland and Antarctica weighting using raw land area fraction (not mask)\n",
    "    \"\"\""
   ]
  },
  {
   "cell_type": "code",
   "execution_count": 28,
   "metadata": {},
   "outputs": [
    {
     "data": {
      "image/png": "[encoded data removed]",
      "text/plain": [
       "<Figure size 936x446.4 with 2 Axes>"
      ]
     },
     "metadata": {
      "needs_background": "light"
     },
     "output_type": "display_data"
    },
    {
     "data": {
      "text/plain": [
       "masked_array(\n",
       "  data=[[0., 0., 0., ..., 0., 0., 0.],\n",
       "        [0., 0., 0., ..., 0., 0., 0.],\n",
       "        [0., 0., 0., ..., 0., 0., 0.],\n",
       "        ...,\n",
       "        [0., 0., 0., ..., 0., 0., 0.],\n",
       "        [0., 0., 0., ..., 0., 0., 0.],\n",
       "        [0., 0., 0., ..., 0., 0., 0.]],\n",
       "  mask=False,\n",
       "  fill_value=1e+20,\n",
       "  dtype=float32)"
      ]
     },
     "execution_count": 28,
     "metadata": {},
     "output_type": "execute_result"
    }
   ],
   "source": [
    "\"\"\"\n",
    "Example cartopy plot\n",
    "\n",
    "http://earthpy.org/tag/cartopy.html\n",
    "https://scitools.org.uk/cartopy/docs/v0.16/matplotlib/advanced_plotting.html\n",
    "\"\"\"\n",
    "\n",
    "import matplotlib.pylab as plt\n",
    "%matplotlib inline\n",
    "import numpy as np\n",
    "from matplotlib import cm\n",
    "import cartopy.crs as ccrs\n",
    "\n",
    "from cartopy.util import add_cyclic_point\n",
    "\n",
    "# #Get example netcdf\n",
    "# glens_dir = '/n/home03/pjirvine/keithfs1_pji/GLENS/combined_annual_data/'\n",
    "# glens_filename = 'control.001.cam.h0.TREFHT.ann.201001-209912.nc'\n",
    "# glens_fileloc = glens_dir + glens_filename\n",
    "# test_nc = Dataset(glens_fileloc)\n",
    "\n",
    "# nc_data = test_nc.variables['TREFHT'][:].transpose()\n",
    "# data = np.mean(nc_data,2)\n",
    "\n",
    "# data = all_masks['land_noice_mask'].transpose()\n",
    "mask = all_masks['land_noice_mask']#.transpose()\n",
    "\n",
    "data = all_data[('P-E','Baseline')][0] * (all_data[('P-E','Baseline')][0] < 0) * (all_data[('P-E','Baseline')][0] > -0.5) * mask\n",
    "# data = all_data[('P-E','Full-GLENS')][0] * (all_data[('P-E','Full-GLENS')][0] < 0) * (all_data[('P-E','Full-GLENS')][0] > -1.0) * mask\n",
    "# data = all_data[('P-E','RCP8.5')][0] * (all_data[('P-E','RCP8.5')][0] < 0) * (all_data[('P-E','RCP8.5')][0] > -1.0) * mask\n",
    "# data = np.transpose(all_masks['land_frac'])\n",
    "\n",
    "fig = plt.figure(figsize=(13,6.2))  \n",
    "# ax = plt.subplot(111, projection=ccrs.PlateCarree())\n",
    "\n",
    "ax = plt.axes(projection=ccrs.PlateCarree())\n",
    "\n",
    "# plt.figure(figsize=(13,6.2))  \n",
    "# ax = plt.subplot(111, projection=ccrs.PlateCarree())\n",
    "\n",
    "lons2d, lats2d = np.meshgrid(lons, lats)\n",
    "\n",
    "CS = plt.contourf(lons2d, lats2d, data.transpose(), 60,\n",
    "             transform=ccrs.PlateCarree())\n",
    "\n",
    "ax.coastlines()\n",
    "\n",
    "fig.colorbar(CS) #cm.ScalarMappable(),ax=ax)\n",
    "\n",
    "plt.show()\n",
    "\n",
    "data"
   ]
  },
  {
   "cell_type": "code",
   "execution_count": null,
   "metadata": {},
   "outputs": [],
   "source": [
    "plt.imshow(all_data[('P-E','RCP8.5')][0])"
   ]
  },
  {
   "cell_type": "code",
   "execution_count": null,
   "metadata": {},
   "outputs": [],
   "source": []
  }
 ],
 "metadata": {
  "kernelspec": {
   "display_name": "Python [conda env:climate_odyssey]",
   "language": "python",
   "name": "conda-env-climate_odyssey-py"
  },
  "language_info": {
   "codemirror_mode": {
    "name": "ipython",
    "version": 3
   },
   "file_extension": ".py",
   "mimetype": "text/x-python",
   "name": "python",
   "nbconvert_exporter": "python",
   "pygments_lexer": "ipython3",
   "version": "3.6.8"
  }
 },
 "nbformat": 4,
 "nbformat_minor": 2
}
