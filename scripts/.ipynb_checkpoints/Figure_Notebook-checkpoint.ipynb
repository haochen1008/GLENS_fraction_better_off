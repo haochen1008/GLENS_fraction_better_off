{
 "cells": [
  {
   "cell_type": "markdown",
   "metadata": {},
   "source": [
    "# Figure Notebook"
   ]
  },
  {
   "cell_type": "code",
   "execution_count": 1,
   "metadata": {},
   "outputs": [],
   "source": [
    "\"\"\"\n",
    "Import needed libraries\n",
    "\"\"\"\n",
    "\n",
    "import numpy as np\n",
    "import pandas as pd\n",
    "from copy import copy\n",
    "import sys\n",
    "import my_shell_tools\n",
    "\n",
    "# analysis\n",
    "from scipy.stats import ttest_ind_from_stats\n",
    "import itertools\n",
    "\n",
    "# geomip_data\n",
    "import os.path\n",
    "# import cf\n",
    "from netCDF4 import Dataset\n",
    "\n",
    "# plotting\n",
    "import matplotlib.pyplot as plt\n",
    "import matplotlib.patches as mpatches\n",
    "import matplotlib.colors as colors\n",
    "import matplotlib.cm as cmx\n",
    "from matplotlib.colors import LogNorm"
   ]
  },
  {
   "cell_type": "code",
   "execution_count": 2,
   "metadata": {},
   "outputs": [],
   "source": [
    "%load_ext autoreload\n",
    "%autoreload 2"
   ]
  },
  {
   "cell_type": "code",
   "execution_count": 3,
   "metadata": {},
   "outputs": [],
   "source": [
    "\"\"\"\n",
    "Import all from projects python scripts\n",
    "\"\"\"\n",
    "\n",
    "from gfdl_data import *\n",
    "from get_glens_data import *\n",
    "from analysis import *\n",
    "from plotting import *"
   ]
  },
  {
   "cell_type": "code",
   "execution_count": null,
   "metadata": {},
   "outputs": [],
   "source": [
    "\"\"\"\n",
    "How much of this needed?\n",
    "\"\"\"\n",
    "\n",
    "# Directory and filenames for annual timeseries of 2D data\n",
    "glens_dir = '/n/home03/pjirvine/keithfs1_pji/GLENS/combined_annual_data/'\n",
    "glens_template = '{exp}.{run}.cam.h0.{var}.ann.{years}.nc'\n",
    "\n",
    "vars_glens = ['TREFHT','TREFHTMX','P-E','PRECTMX']\n",
    "exps_glens = ['control','feedback']\n",
    "years = ['2010-2029','2075-2094']\n",
    "\n",
    "# year ranges which appears in filename\n",
    "control_file_years = '201001-209912'\n",
    "control_short_file_years = '201001-203012'\n",
    "feedback_file_years = '202001-209912'\n",
    "\n",
    "seas = 'ann'\n",
    "stats = ['mean','std']\n",
    "\n",
    "\"\"\"\n",
    "Specify years of experiments and associated indices for annual files\n",
    "\"\"\"\n",
    "\n",
    "years_control = np.array([IDX + 2010 for IDX in range(90)])\n",
    "years_feedback = np.array([IDX + 2020 for IDX in range(80)])\n",
    "\n",
    "#Generate the indices for the range of years in each case.\n",
    "# [0] added as a 2 element tuple with an array and an empty slot returned rather than an array\n",
    "t_index_control = np.where((years_control > 2074) & (years_control < 2095))[0]\n",
    "t_index_baseline = np.where((years_control > 2009) & (years_control < 2030))[0]\n",
    "t_index_feedback = np.where((years_feedback > 2074) & (years_feedback < 2095))[0]\n",
    "\n",
    "\"\"\"\n",
    "How much of this needed?\n",
    "\"\"\""
   ]
  },
  {
   "cell_type": "code",
   "execution_count": 4,
   "metadata": {},
   "outputs": [],
   "source": [
    "\"\"\"\n",
    "Generate means and stds for all variables and cases\n",
    "\"\"\"\n",
    "\n",
    "# get lons, lats and weights\n",
    "lons, lats, weights = get_lons_lats_weights()\n",
    "\n",
    "# get means, stds for all cases and vars\n",
    "all_data = get_all_cases_vars()"
   ]
  },
  {
   "cell_type": "code",
   "execution_count": null,
   "metadata": {},
   "outputs": [],
   "source": [
    "\"\"\"\n",
    "Load all GFDL data\n",
    "\"\"\"\n",
    "\n",
    "vars_hiflor = ['tas','tasmax','precip','precip5max','pe']\n",
    "exps_hiflor = ['ctrl','CO2','SRM']\n",
    "stats_hiflor = ['mean','std']\n",
    "\n",
    "masks_hiflor = ['pop', 'ag', 'area', 'land_area', 'land_noice_area']\n",
    "\n",
    "gfdl_data = get_all_gfdl() # gfdl_data[exp,var,stat]\n",
    "gfdl_masks = get_gfdl_masks_weights() # gfdl_masks[masks]"
   ]
  },
  {
   "cell_type": "code",
   "execution_count": null,
   "metadata": {},
   "outputs": [],
   "source": [
    "\"\"\"\n",
    "Set standard plot options\n",
    "\"\"\"\n",
    "\n",
    "def cm2inch(*tupl):\n",
    "    inch = 2.54\n",
    "    if isinstance(tupl[0], tuple):\n",
    "        return tuple(i/inch for i in tupl[0])\n",
    "    else:\n",
    "        return tuple(i/inch for i in tupl)\n",
    "\n",
    "plt.rcParams.update({'font.size': 8})\n",
    "plt.rcParams.update({'figure.figsize': cm2inch(8.5,8.5)})\n",
    "\n",
    "# color guide here: https://www.w3schools.com/colors/colors_picker.asp\n",
    "red = '#ff0000'\n",
    "l_red = '#ffc0c0' # old: '#ffd9d9'\n",
    "blue = '#0066ff'\n",
    "l_blue = '#c0c0ff' # old:'#b2d0ff'\n",
    "\n",
    "std_alpha = 0.2"
   ]
  },
  {
   "cell_type": "code",
   "execution_count": null,
   "metadata": {},
   "outputs": [],
   "source": [
    "import matplotlib as mpl\n",
    "mpl.rcParams['figure.dpi']= 300 # set inline images to hi-res\n",
    "%matplotlib inline"
   ]
  },
  {
   "cell_type": "markdown",
   "metadata": {},
   "source": [
    "# Insert Sections Here"
   ]
  },
  {
   "cell_type": "code",
   "execution_count": null,
   "metadata": {},
   "outputs": [],
   "source": []
  },
  {
   "cell_type": "markdown",
   "metadata": {},
   "source": [
    "# Loading Example NetCDF to see contents and map results"
   ]
  },
  {
   "cell_type": "code",
   "execution_count": null,
   "metadata": {},
   "outputs": [],
   "source": [
    "\"\"\"\n",
    "Example netcdf file of annual series + gather lons and lats\n",
    "\"\"\"\n",
    "\n",
    "\"\"\"\n",
    "variables(dimensions): float64 time(time), float64 time_bnds(time,bnds), \n",
    "    float64 lat(lat), float64 lon(lon), float64 gw(lat), float64 ch4vmr(time), \n",
    "    float64 co2vmr(time), int32 ndcur(time), int32 date(time), int32 nscur(time), \n",
    "    float64 sol_tsi(time), int32 nsteph(time), float64 f11vmr(time), float64 n2ovmr(time), \n",
    "    int32 datesec(time), float64 f12vmr(time), float32 TREFHT(time,lat,lon)\n",
    "\"\"\"\n",
    "\n",
    "var='TREFHT'\n",
    "exp='control'\n",
    "run='001'\n",
    "file_years='201001-209912'\n",
    "\n",
    "glens_dir = '/n/home03/pjirvine/keithfs1_pji/GLENS/combined_annual_data/'\n",
    "glens_filename = '{exp}.{run}.cam.h0.{var}.ann.{years}.nc'.format(exp=exp,run=run,var=var,years=file_years)\n",
    "\n",
    "glens_fileloc = glens_dir + glens_filename\n",
    "test_nc = Dataset(glens_fileloc)\n",
    "\n",
    "lons = np.array(test_nc.variables['lon'][:])\n",
    "lats = np.array(test_nc.variables['lat'][:])\n",
    "\n",
    "# grid-weights by latitude\n",
    "gw = test_nc.variables['gw'][:]\n",
    "gw_2D = np.tile(gw, (lons.size,1))\n",
    "gw_2D = gw_2D / np.sum(gw_2D)"
   ]
  },
  {
   "cell_type": "code",
   "execution_count": 14,
   "metadata": {},
   "outputs": [],
   "source": [
    "# #Get example netcdf\n",
    "# glens_dir = '/n/home03/pjirvine/keithfs1_pji/GLENS/combined_annual_data/'\n",
    "# glens_filename = 'control.001.cam.h0.TREFHT.ann.201001-209912.nc'\n",
    "# glens_fileloc = glens_dir + glens_filename\n",
    "# test_nc = Dataset(glens_fileloc)\n",
    "\n",
    "fix_dir = '/n/home03/pjirvine/keithfs1_pji/geomip_archive/final_data/CCSM4/fix/'\n",
    "filename = 'sftlf_CCSM4.nc'\n",
    "test_nc = Dataset(fix_dir + filename)\n",
    "\n",
    "nc_data = test_nc.variables['sftlf'][:].transpose()"
   ]
  },
  {
   "cell_type": "code",
   "execution_count": 15,
   "metadata": {},
   "outputs": [
    {
     "data": {
      "text/plain": [
       "(288, 192)"
      ]
     },
     "execution_count": 15,
     "metadata": {},
     "output_type": "execute_result"
    }
   ],
   "source": [
    "nc_data.shape"
   ]
  },
  {
   "cell_type": "code",
   "execution_count": 16,
   "metadata": {},
   "outputs": [
    {
     "data": {
      "image/png": "[encoded data removed]",
      "text/plain": [
       "<Figure size 432x288 with 1 Axes>"
      ]
     },
     "metadata": {
      "needs_background": "light"
     },
     "output_type": "display_data"
    }
   ],
   "source": [
    "\"\"\"\n",
    "Example cartopy plot\n",
    "\n",
    "http://earthpy.org/tag/cartopy.html\n",
    "https://scitools.org.uk/cartopy/docs/v0.16/matplotlib/advanced_plotting.html\n",
    "\"\"\"\n",
    "\n",
    "import matplotlib.pylab as plt\n",
    "%matplotlib inline\n",
    "import numpy as np\n",
    "from matplotlib import cm\n",
    "import cartopy.crs as ccrs\n",
    "\n",
    "from cartopy.util import add_cyclic_point\n",
    "\n",
    "# #Get example netcdf\n",
    "# glens_dir = '/n/home03/pjirvine/keithfs1_pji/GLENS/combined_annual_data/'\n",
    "# glens_filename = 'control.001.cam.h0.TREFHT.ann.201001-209912.nc'\n",
    "# glens_fileloc = glens_dir + glens_filename\n",
    "# test_nc = Dataset(glens_fileloc)\n",
    "\n",
    "# nc_data = test_nc.variables['TREFHT'][:].transpose()\n",
    "# data = np.mean(nc_data,2)\n",
    "\n",
    "data = nc_data\n",
    "\n",
    "ax = plt.axes(projection=ccrs.PlateCarree())\n",
    "\n",
    "# plt.figure(figsize=(13,6.2))  \n",
    "# ax = plt.subplot(111, projection=ccrs.PlateCarree())\n",
    "\n",
    "lons2d, lats2d = np.meshgrid(lons, lats)\n",
    "\n",
    "plt.contourf(lons2d, lats2d, data.transpose(), 60,\n",
    "             transform=ccrs.PlateCarree())\n",
    "\n",
    "ax.coastlines()\n",
    "\n",
    "# fig.colorbar(cm.ScalarMappable(),ax=ax)\n",
    "\n",
    "plt.show()"
   ]
  },
  {
   "cell_type": "code",
   "execution_count": null,
   "metadata": {},
   "outputs": [],
   "source": []
  }
 ],
 "metadata": {
  "kernelspec": {
   "display_name": "Python 3",
   "language": "python",
   "name": "python3"
  },
  "language_info": {
   "codemirror_mode": {
    "name": "ipython",
    "version": 3
   },
   "file_extension": ".py",
   "mimetype": "text/x-python",
   "name": "python",
   "nbconvert_exporter": "python",
   "pygments_lexer": "ipython3",
   "version": "3.6.8"
  }
 },
 "nbformat": 4,
 "nbformat_minor": 2
}
